{
 "cells": [
  {
   "cell_type": "code",
   "execution_count": 1,
   "metadata": {},
   "outputs": [],
   "source": [
    "import pandas as pd\n",
    "import numpy as np"
   ]
  },
  {
   "cell_type": "code",
   "execution_count": 2,
   "metadata": {},
   "outputs": [],
   "source": [
    "used_entities_datasets = pd.read_csv(\"used_entities_dataset.csv\")"
   ]
  },
  {
   "cell_type": "code",
   "execution_count": 3,
   "metadata": {},
   "outputs": [],
   "source": [
    "used_entities_datasets[\"classification\"] = np.where(used_entities_datasets[\"probability\"] > 0.5, 1, 0)"
   ]
  },
  {
   "cell_type": "code",
   "execution_count": 4,
   "metadata": {},
   "outputs": [
    {
     "data": {
      "text/html": [
       "<div>\n",
       "<style scoped>\n",
       "    .dataframe tbody tr th:only-of-type {\n",
       "        vertical-align: middle;\n",
       "    }\n",
       "\n",
       "    .dataframe tbody tr th {\n",
       "        vertical-align: top;\n",
       "    }\n",
       "\n",
       "    .dataframe thead th {\n",
       "        text-align: right;\n",
       "    }\n",
       "</style>\n",
       "<table border=\"1\" class=\"dataframe\">\n",
       "  <thead>\n",
       "    <tr style=\"text-align: right;\">\n",
       "      <th></th>\n",
       "      <th>document_id</th>\n",
       "      <th>dataset</th>\n",
       "      <th>probability</th>\n",
       "      <th>count</th>\n",
       "      <th>sentence</th>\n",
       "      <th>classification</th>\n",
       "    </tr>\n",
       "  </thead>\n",
       "  <tbody>\n",
       "    <tr>\n",
       "      <td>0</td>\n",
       "      <td>2118681326</td>\n",
       "      <td>marcu</td>\n",
       "      <td>0.999340</td>\n",
       "      <td>1</td>\n",
       "      <td>The main difficulty in using this method is th...</td>\n",
       "      <td>1</td>\n",
       "    </tr>\n",
       "    <tr>\n",
       "      <td>1</td>\n",
       "      <td>2118681326</td>\n",
       "      <td>machine translation</td>\n",
       "      <td>0.999164</td>\n",
       "      <td>2</td>\n",
       "      <td>The K&amp;M probabilistic model, adapted from mach...</td>\n",
       "      <td>1</td>\n",
       "    </tr>\n",
       "    <tr>\n",
       "      <td>2</td>\n",
       "      <td>2118681326</td>\n",
       "      <td>penn treebank</td>\n",
       "      <td>0.998988</td>\n",
       "      <td>1</td>\n",
       "      <td>The K&amp;M model creates a packed parse forest of...</td>\n",
       "      <td>1</td>\n",
       "    </tr>\n",
       "    <tr>\n",
       "      <td>3</td>\n",
       "      <td>2161668503</td>\n",
       "      <td>support vector</td>\n",
       "      <td>0.999334</td>\n",
       "      <td>1</td>\n",
       "      <td>These approaches use a variety of machine lear...</td>\n",
       "      <td>1</td>\n",
       "    </tr>\n",
       "    <tr>\n",
       "      <td>4</td>\n",
       "      <td>2161668503</td>\n",
       "      <td>pre7</td>\n",
       "      <td>0.997811</td>\n",
       "      <td>1</td>\n",
       "      <td>Pre9 is localized in the cytoplasm and in the ...</td>\n",
       "      <td>1</td>\n",
       "    </tr>\n",
       "  </tbody>\n",
       "</table>\n",
       "</div>"
      ],
      "text/plain": [
       "   document_id              dataset  probability  count  \\\n",
       "0   2118681326                marcu     0.999340      1   \n",
       "1   2118681326  machine translation     0.999164      2   \n",
       "2   2118681326        penn treebank     0.998988      1   \n",
       "3   2161668503       support vector     0.999334      1   \n",
       "4   2161668503                 pre7     0.997811      1   \n",
       "\n",
       "                                            sentence  classification  \n",
       "0  The main difficulty in using this method is th...               1  \n",
       "1  The K&M probabilistic model, adapted from mach...               1  \n",
       "2  The K&M model creates a packed parse forest of...               1  \n",
       "3  These approaches use a variety of machine lear...               1  \n",
       "4  Pre9 is localized in the cytoplasm and in the ...               1  "
      ]
     },
     "execution_count": 4,
     "metadata": {},
     "output_type": "execute_result"
    }
   ],
   "source": [
    "used_entities_datasets.head()"
   ]
  },
  {
   "cell_type": "code",
   "execution_count": 5,
   "metadata": {},
   "outputs": [],
   "source": [
    "# Schema: <MAG-ID> <http://mag.graph/property/used_methods> <WikiData-ID>\n",
    "\n",
    "# Example:\n",
    "# MAG-ID <http://mag.graph/entity/2775832036> \n",
    "# Relation: <http://mag.graph/property/used_methods> \n",
    "# Used Method: \"mnist\"^^<http://www.w3.org/2001/XMLSchema#string>"
   ]
  },
  {
   "cell_type": "code",
   "execution_count": 7,
   "metadata": {},
   "outputs": [],
   "source": [
    "# create columns of mag_extension, which is the df to include the output format\n",
    "mag_extension = pd.DataFrame(columns=['magId','relation','dataset'])\n",
    "\n",
    "mag_extension['magId'] = '<http://mag.graph/entity/' + used_entities_datasets['document_id'].astype(str) + '>'\n",
    "mag_extension['relation'] = '<http://mag.graph/property/used_dataset>'\n",
    "mag_extension['dataset'] = '\\\"' + used_entities_datasets['dataset'].astype(str) + '\\\"^^<http://www.w3.org/2001/XMLSchema#string>'"
   ]
  },
  {
   "cell_type": "code",
   "execution_count": 8,
   "metadata": {},
   "outputs": [
    {
     "data": {
      "text/html": [
       "<div>\n",
       "<style scoped>\n",
       "    .dataframe tbody tr th:only-of-type {\n",
       "        vertical-align: middle;\n",
       "    }\n",
       "\n",
       "    .dataframe tbody tr th {\n",
       "        vertical-align: top;\n",
       "    }\n",
       "\n",
       "    .dataframe thead th {\n",
       "        text-align: right;\n",
       "    }\n",
       "</style>\n",
       "<table border=\"1\" class=\"dataframe\">\n",
       "  <thead>\n",
       "    <tr style=\"text-align: right;\">\n",
       "      <th></th>\n",
       "      <th>magId</th>\n",
       "      <th>relation</th>\n",
       "      <th>dataset</th>\n",
       "    </tr>\n",
       "  </thead>\n",
       "  <tbody>\n",
       "    <tr>\n",
       "      <td>0</td>\n",
       "      <td>&lt;http://mag.graph/entity/2118681326&gt;</td>\n",
       "      <td>&lt;http://mag.graph/property/used_dataset&gt;</td>\n",
       "      <td>\"marcu\"^^&lt;http://www.w3.org/2001/XMLSchema#str...</td>\n",
       "    </tr>\n",
       "    <tr>\n",
       "      <td>1</td>\n",
       "      <td>&lt;http://mag.graph/entity/2118681326&gt;</td>\n",
       "      <td>&lt;http://mag.graph/property/used_dataset&gt;</td>\n",
       "      <td>\"machine translation\"^^&lt;http://www.w3.org/2001...</td>\n",
       "    </tr>\n",
       "    <tr>\n",
       "      <td>2</td>\n",
       "      <td>&lt;http://mag.graph/entity/2118681326&gt;</td>\n",
       "      <td>&lt;http://mag.graph/property/used_dataset&gt;</td>\n",
       "      <td>\"penn treebank\"^^&lt;http://www.w3.org/2001/XMLSc...</td>\n",
       "    </tr>\n",
       "    <tr>\n",
       "      <td>3</td>\n",
       "      <td>&lt;http://mag.graph/entity/2161668503&gt;</td>\n",
       "      <td>&lt;http://mag.graph/property/used_dataset&gt;</td>\n",
       "      <td>\"support vector\"^^&lt;http://www.w3.org/2001/XMLS...</td>\n",
       "    </tr>\n",
       "    <tr>\n",
       "      <td>4</td>\n",
       "      <td>&lt;http://mag.graph/entity/2161668503&gt;</td>\n",
       "      <td>&lt;http://mag.graph/property/used_dataset&gt;</td>\n",
       "      <td>\"pre7\"^^&lt;http://www.w3.org/2001/XMLSchema#string&gt;</td>\n",
       "    </tr>\n",
       "  </tbody>\n",
       "</table>\n",
       "</div>"
      ],
      "text/plain": [
       "                                  magId  \\\n",
       "0  <http://mag.graph/entity/2118681326>   \n",
       "1  <http://mag.graph/entity/2118681326>   \n",
       "2  <http://mag.graph/entity/2118681326>   \n",
       "3  <http://mag.graph/entity/2161668503>   \n",
       "4  <http://mag.graph/entity/2161668503>   \n",
       "\n",
       "                                   relation  \\\n",
       "0  <http://mag.graph/property/used_dataset>   \n",
       "1  <http://mag.graph/property/used_dataset>   \n",
       "2  <http://mag.graph/property/used_dataset>   \n",
       "3  <http://mag.graph/property/used_dataset>   \n",
       "4  <http://mag.graph/property/used_dataset>   \n",
       "\n",
       "                                             dataset  \n",
       "0  \"marcu\"^^<http://www.w3.org/2001/XMLSchema#str...  \n",
       "1  \"machine translation\"^^<http://www.w3.org/2001...  \n",
       "2  \"penn treebank\"^^<http://www.w3.org/2001/XMLSc...  \n",
       "3  \"support vector\"^^<http://www.w3.org/2001/XMLS...  \n",
       "4  \"pre7\"^^<http://www.w3.org/2001/XMLSchema#string>  "
      ]
     },
     "execution_count": 8,
     "metadata": {},
     "output_type": "execute_result"
    }
   ],
   "source": [
    "mag_extension.head()"
   ]
  },
  {
   "cell_type": "code",
   "execution_count": 9,
   "metadata": {},
   "outputs": [],
   "source": [
    "import csv\n",
    "mag_extension.to_csv('mag_extension_datasets.csv', index=False, encoding='utf-8', quoting=csv.QUOTE_NONE, escapechar='\\\\')"
   ]
  },
  {
   "cell_type": "code",
   "execution_count": null,
   "metadata": {},
   "outputs": [],
   "source": []
  }
 ],
 "metadata": {
  "kernelspec": {
   "display_name": "Python 3",
   "language": "python",
   "name": "python3"
  },
  "language_info": {
   "codemirror_mode": {
    "name": "ipython",
    "version": 3
   },
   "file_extension": ".py",
   "mimetype": "text/x-python",
   "name": "python",
   "nbconvert_exporter": "python",
   "pygments_lexer": "ipython3",
   "version": "3.6.9"
  }
 },
 "nbformat": 4,
 "nbformat_minor": 2
}
