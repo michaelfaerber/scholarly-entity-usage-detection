{
 "cells": [
  {
   "cell_type": "code",
   "execution_count": 1,
   "metadata": {},
   "outputs": [],
   "source": [
    "import pandas as pd\n",
    "import numpy as np"
   ]
  },
  {
   "cell_type": "code",
   "execution_count": 2,
   "metadata": {},
   "outputs": [],
   "source": [
    "used_entities_method = pd.read_csv(\"used_entities.csv\")"
   ]
  },
  {
   "cell_type": "code",
   "execution_count": 3,
   "metadata": {},
   "outputs": [],
   "source": [
    "used_entities_method[\"classification\"] = np.where(used_entities_method[\"probability\"] > 0.5, 1, 0)"
   ]
  },
  {
   "cell_type": "code",
   "execution_count": 4,
   "metadata": {},
   "outputs": [
    {
     "data": {
      "text/html": [
       "<div>\n",
       "<style scoped>\n",
       "    .dataframe tbody tr th:only-of-type {\n",
       "        vertical-align: middle;\n",
       "    }\n",
       "\n",
       "    .dataframe tbody tr th {\n",
       "        vertical-align: top;\n",
       "    }\n",
       "\n",
       "    .dataframe thead th {\n",
       "        text-align: right;\n",
       "    }\n",
       "</style>\n",
       "<table border=\"1\" class=\"dataframe\">\n",
       "  <thead>\n",
       "    <tr style=\"text-align: right;\">\n",
       "      <th></th>\n",
       "      <th>document_id</th>\n",
       "      <th>method</th>\n",
       "      <th>probability</th>\n",
       "      <th>count</th>\n",
       "      <th>sentence</th>\n",
       "      <th>classification</th>\n",
       "    </tr>\n",
       "  </thead>\n",
       "  <tbody>\n",
       "    <tr>\n",
       "      <td>0</td>\n",
       "      <td>2118681326</td>\n",
       "      <td>marcu</td>\n",
       "      <td>0.997502</td>\n",
       "      <td>1</td>\n",
       "      <td>The main difficulty in using this method is th...</td>\n",
       "      <td>1</td>\n",
       "    </tr>\n",
       "    <tr>\n",
       "      <td>1</td>\n",
       "      <td>2118681326</td>\n",
       "      <td>machine translation</td>\n",
       "      <td>0.996561</td>\n",
       "      <td>2</td>\n",
       "      <td>The K&amp;M probabilistic model, adapted from mach...</td>\n",
       "      <td>1</td>\n",
       "    </tr>\n",
       "    <tr>\n",
       "      <td>2</td>\n",
       "      <td>2118681326</td>\n",
       "      <td>although</td>\n",
       "      <td>0.072608</td>\n",
       "      <td>1</td>\n",
       "      <td>Although the final length of the sentences is ...</td>\n",
       "      <td>0</td>\n",
       "    </tr>\n",
       "    <tr>\n",
       "      <td>3</td>\n",
       "      <td>2118681326</td>\n",
       "      <td>whereas</td>\n",
       "      <td>0.013132</td>\n",
       "      <td>1</td>\n",
       "      <td>The unsupervised version does not compress at ...</td>\n",
       "      <td>0</td>\n",
       "    </tr>\n",
       "    <tr>\n",
       "      <td>4</td>\n",
       "      <td>2161668503</td>\n",
       "      <td>maximum likelihood</td>\n",
       "      <td>0.977955</td>\n",
       "      <td>4</td>\n",
       "      <td>Typically, this work uses statistical maximum ...</td>\n",
       "      <td>1</td>\n",
       "    </tr>\n",
       "  </tbody>\n",
       "</table>\n",
       "</div>"
      ],
      "text/plain": [
       "   document_id               method  probability  count  \\\n",
       "0   2118681326                marcu     0.997502      1   \n",
       "1   2118681326  machine translation     0.996561      2   \n",
       "2   2118681326             although     0.072608      1   \n",
       "3   2118681326              whereas     0.013132      1   \n",
       "4   2161668503   maximum likelihood     0.977955      4   \n",
       "\n",
       "                                            sentence  classification  \n",
       "0  The main difficulty in using this method is th...               1  \n",
       "1  The K&M probabilistic model, adapted from mach...               1  \n",
       "2  Although the final length of the sentences is ...               0  \n",
       "3  The unsupervised version does not compress at ...               0  \n",
       "4  Typically, this work uses statistical maximum ...               1  "
      ]
     },
     "execution_count": 4,
     "metadata": {},
     "output_type": "execute_result"
    }
   ],
   "source": [
    "used_entities_method.head()"
   ]
  },
  {
   "cell_type": "code",
   "execution_count": 5,
   "metadata": {},
   "outputs": [],
   "source": [
    "# Schema: <MAG-ID> <http://mag.graph/property/used_methods> <WikiData-ID>\n",
    "\n",
    "# Example:\n",
    "# MAG-ID <http://mag.graph/entity/2775832036> \n",
    "# Relation: <http://mag.graph/property/used_methods> \n",
    "# Used Method: \"supportvectormachine\"^^<http://www.w3.org/2001/XMLSchema#string>"
   ]
  },
  {
   "cell_type": "code",
   "execution_count": 6,
   "metadata": {},
   "outputs": [],
   "source": [
    "# create columns of mag_extension, which is the df to include the output format\n",
    "mag_extension = pd.DataFrame(columns=['magId','relation','method'])\n",
    "\n",
    "mag_extension['magId'] = '<http://mag.graph/entity/' + used_entities_method['document_id'].astype(str) + '>'\n",
    "mag_extension['relation'] = '<http://mag.graph/property/used_methods>'\n",
    "mag_extension['method'] = '\\\"' + used_entities_method['method'].astype(str) + '\\\"' + '^^<http://www.w3.org/2001/XMLSchema#string>'"
   ]
  },
  {
   "cell_type": "code",
   "execution_count": 7,
   "metadata": {},
   "outputs": [
    {
     "data": {
      "text/html": [
       "<div>\n",
       "<style scoped>\n",
       "    .dataframe tbody tr th:only-of-type {\n",
       "        vertical-align: middle;\n",
       "    }\n",
       "\n",
       "    .dataframe tbody tr th {\n",
       "        vertical-align: top;\n",
       "    }\n",
       "\n",
       "    .dataframe thead th {\n",
       "        text-align: right;\n",
       "    }\n",
       "</style>\n",
       "<table border=\"1\" class=\"dataframe\">\n",
       "  <thead>\n",
       "    <tr style=\"text-align: right;\">\n",
       "      <th></th>\n",
       "      <th>magId</th>\n",
       "      <th>relation</th>\n",
       "      <th>method</th>\n",
       "    </tr>\n",
       "  </thead>\n",
       "  <tbody>\n",
       "    <tr>\n",
       "      <td>0</td>\n",
       "      <td>&lt;http://mag.graph/entity/2118681326&gt;</td>\n",
       "      <td>&lt;http://mag.graph/property/used_methods&gt;</td>\n",
       "      <td>\"marcu\"^^&lt;http://www.w3.org/2001/XMLSchema#str...</td>\n",
       "    </tr>\n",
       "    <tr>\n",
       "      <td>1</td>\n",
       "      <td>&lt;http://mag.graph/entity/2118681326&gt;</td>\n",
       "      <td>&lt;http://mag.graph/property/used_methods&gt;</td>\n",
       "      <td>\"machine translation\"^^&lt;http://www.w3.org/2001...</td>\n",
       "    </tr>\n",
       "    <tr>\n",
       "      <td>2</td>\n",
       "      <td>&lt;http://mag.graph/entity/2118681326&gt;</td>\n",
       "      <td>&lt;http://mag.graph/property/used_methods&gt;</td>\n",
       "      <td>\"although\"^^&lt;http://www.w3.org/2001/XMLSchema#...</td>\n",
       "    </tr>\n",
       "    <tr>\n",
       "      <td>3</td>\n",
       "      <td>&lt;http://mag.graph/entity/2118681326&gt;</td>\n",
       "      <td>&lt;http://mag.graph/property/used_methods&gt;</td>\n",
       "      <td>\"whereas\"^^&lt;http://www.w3.org/2001/XMLSchema#s...</td>\n",
       "    </tr>\n",
       "    <tr>\n",
       "      <td>4</td>\n",
       "      <td>&lt;http://mag.graph/entity/2161668503&gt;</td>\n",
       "      <td>&lt;http://mag.graph/property/used_methods&gt;</td>\n",
       "      <td>\"maximum likelihood\"^^&lt;http://www.w3.org/2001/...</td>\n",
       "    </tr>\n",
       "  </tbody>\n",
       "</table>\n",
       "</div>"
      ],
      "text/plain": [
       "                                  magId  \\\n",
       "0  <http://mag.graph/entity/2118681326>   \n",
       "1  <http://mag.graph/entity/2118681326>   \n",
       "2  <http://mag.graph/entity/2118681326>   \n",
       "3  <http://mag.graph/entity/2118681326>   \n",
       "4  <http://mag.graph/entity/2161668503>   \n",
       "\n",
       "                                   relation  \\\n",
       "0  <http://mag.graph/property/used_methods>   \n",
       "1  <http://mag.graph/property/used_methods>   \n",
       "2  <http://mag.graph/property/used_methods>   \n",
       "3  <http://mag.graph/property/used_methods>   \n",
       "4  <http://mag.graph/property/used_methods>   \n",
       "\n",
       "                                              method  \n",
       "0  \"marcu\"^^<http://www.w3.org/2001/XMLSchema#str...  \n",
       "1  \"machine translation\"^^<http://www.w3.org/2001...  \n",
       "2  \"although\"^^<http://www.w3.org/2001/XMLSchema#...  \n",
       "3  \"whereas\"^^<http://www.w3.org/2001/XMLSchema#s...  \n",
       "4  \"maximum likelihood\"^^<http://www.w3.org/2001/...  "
      ]
     },
     "execution_count": 7,
     "metadata": {},
     "output_type": "execute_result"
    }
   ],
   "source": [
    "mag_extension.head()"
   ]
  },
  {
   "cell_type": "code",
   "execution_count": 8,
   "metadata": {},
   "outputs": [],
   "source": [
    "import csv\n",
    "mag_extension.to_csv('mag_extension_methods.csv', index=False, encoding='utf-8', quoting=csv.QUOTE_NONE, escapechar='\\\\')"
   ]
  },
  {
   "cell_type": "code",
   "execution_count": null,
   "metadata": {},
   "outputs": [],
   "source": []
  }
 ],
 "metadata": {
  "kernelspec": {
   "display_name": "Python 3",
   "language": "python",
   "name": "python3"
  },
  "language_info": {
   "codemirror_mode": {
    "name": "ipython",
    "version": 3
   },
   "file_extension": ".py",
   "mimetype": "text/x-python",
   "name": "python",
   "nbconvert_exporter": "python",
   "pygments_lexer": "ipython3",
   "version": "3.6.9"
  }
 },
 "nbformat": 4,
 "nbformat_minor": 2
}
