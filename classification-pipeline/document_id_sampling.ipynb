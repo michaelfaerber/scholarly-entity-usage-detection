{
 "cells": [
  {
   "cell_type": "code",
   "execution_count": 1,
   "metadata": {},
   "outputs": [],
   "source": [
    "#\"/vol3/mag/Unpaywall/Fulltext/pdfs/computerscience/grobid-output\""
   ]
  },
  {
   "cell_type": "code",
   "execution_count": 2,
   "metadata": {},
   "outputs": [],
   "source": [
    "import numpy as np\n",
    "import pandas as pd\n",
    "import os"
   ]
  },
  {
   "cell_type": "code",
   "execution_count": 3,
   "metadata": {},
   "outputs": [],
   "source": [
    "#os.chdir(\"/vol3/kd-seminar-ie/\")\n",
    "sparql_df = pd.read_csv(\"sparql2.csv\", sep = ',')"
   ]
  },
  {
   "cell_type": "code",
   "execution_count": 4,
   "metadata": {},
   "outputs": [
    {
     "data": {
      "text/html": [
       "<div>\n",
       "<style scoped>\n",
       "    .dataframe tbody tr th:only-of-type {\n",
       "        vertical-align: middle;\n",
       "    }\n",
       "\n",
       "    .dataframe tbody tr th {\n",
       "        vertical-align: top;\n",
       "    }\n",
       "\n",
       "    .dataframe thead th {\n",
       "        text-align: right;\n",
       "    }\n",
       "</style>\n",
       "<table border=\"1\" class=\"dataframe\">\n",
       "  <thead>\n",
       "    <tr style=\"text-align: right;\">\n",
       "      <th></th>\n",
       "      <th>doc_id</th>\n",
       "      <th>year</th>\n",
       "    </tr>\n",
       "  </thead>\n",
       "  <tbody>\n",
       "    <tr>\n",
       "      <th>0</th>\n",
       "      <td>4528552</td>\n",
       "      <td>2009</td>\n",
       "    </tr>\n",
       "    <tr>\n",
       "      <th>1</th>\n",
       "      <td>4529005</td>\n",
       "      <td>2011</td>\n",
       "    </tr>\n",
       "    <tr>\n",
       "      <th>2</th>\n",
       "      <td>4538592</td>\n",
       "      <td>2007</td>\n",
       "    </tr>\n",
       "    <tr>\n",
       "      <th>3</th>\n",
       "      <td>4554164</td>\n",
       "      <td>2014</td>\n",
       "    </tr>\n",
       "    <tr>\n",
       "      <th>4</th>\n",
       "      <td>4563250</td>\n",
       "      <td>2014</td>\n",
       "    </tr>\n",
       "  </tbody>\n",
       "</table>\n",
       "</div>"
      ],
      "text/plain": [
       "    doc_id  year\n",
       "0  4528552  2009\n",
       "1  4529005  2011\n",
       "2  4538592  2007\n",
       "3  4554164  2014\n",
       "4  4563250  2014"
      ]
     },
     "execution_count": 4,
     "metadata": {},
     "output_type": "execute_result"
    }
   ],
   "source": [
    "sparql_df['doc_id'] = sparql_df['paper'].str.split('/', n = 5, expand = True).iloc[:, 4]\n",
    "sparql_df['year'] = sparql_df['paperPubDate'].str.split('-', n = 3, expand = True).iloc[:, 0]\n",
    "sparql_df = sparql_df.drop([\"paper\", \"paperPubDate\"], axis = 1)\n",
    "sparql_df.head()"
   ]
  },
  {
   "cell_type": "code",
   "execution_count": 5,
   "metadata": {},
   "outputs": [
    {
     "data": {
      "text/plain": [
       "807709"
      ]
     },
     "execution_count": 5,
     "metadata": {},
     "output_type": "execute_result"
    }
   ],
   "source": [
    "len(sparql_df)"
   ]
  },
  {
   "cell_type": "code",
   "execution_count": 6,
   "metadata": {},
   "outputs": [],
   "source": [
    "import glob, os\n",
    "os.chdir(\"/vol3/mag/Unpaywall/Fulltext/pdfs/computerscience/grobid-output\")\n",
    "txtfiles = []\n",
    "for file in glob.glob(\"*.tei.xml\"):\n",
    "    txtfiles.append(file)\n",
    "os.chdir(\"/vol3/kd-seminar-ie/\")"
   ]
  },
  {
   "cell_type": "code",
   "execution_count": 7,
   "metadata": {},
   "outputs": [
    {
     "data": {
      "text/html": [
       "<div>\n",
       "<style scoped>\n",
       "    .dataframe tbody tr th:only-of-type {\n",
       "        vertical-align: middle;\n",
       "    }\n",
       "\n",
       "    .dataframe tbody tr th {\n",
       "        vertical-align: top;\n",
       "    }\n",
       "\n",
       "    .dataframe thead th {\n",
       "        text-align: right;\n",
       "    }\n",
       "</style>\n",
       "<table border=\"1\" class=\"dataframe\">\n",
       "  <thead>\n",
       "    <tr style=\"text-align: right;\">\n",
       "      <th></th>\n",
       "      <th>filename</th>\n",
       "    </tr>\n",
       "  </thead>\n",
       "  <tbody>\n",
       "    <tr>\n",
       "      <th>0</th>\n",
       "      <td>1978552532.tei.xml</td>\n",
       "    </tr>\n",
       "    <tr>\n",
       "      <th>1</th>\n",
       "      <td>2010754144.tei.xml</td>\n",
       "    </tr>\n",
       "    <tr>\n",
       "      <th>2</th>\n",
       "      <td>2581015818.tei.xml</td>\n",
       "    </tr>\n",
       "    <tr>\n",
       "      <th>3</th>\n",
       "      <td>2804009286.tei.xml</td>\n",
       "    </tr>\n",
       "    <tr>\n",
       "      <th>4</th>\n",
       "      <td>2006990202.tei.xml</td>\n",
       "    </tr>\n",
       "  </tbody>\n",
       "</table>\n",
       "</div>"
      ],
      "text/plain": [
       "             filename\n",
       "0  1978552532.tei.xml\n",
       "1  2010754144.tei.xml\n",
       "2  2581015818.tei.xml\n",
       "3  2804009286.tei.xml\n",
       "4  2006990202.tei.xml"
      ]
     },
     "execution_count": 7,
     "metadata": {},
     "output_type": "execute_result"
    }
   ],
   "source": [
    "filenames_df = pd.DataFrame(txtfiles,columns=['filename'])\n",
    "filenames_df.head()"
   ]
  },
  {
   "cell_type": "code",
   "execution_count": 8,
   "metadata": {},
   "outputs": [
    {
     "data": {
      "text/html": [
       "<div>\n",
       "<style scoped>\n",
       "    .dataframe tbody tr th:only-of-type {\n",
       "        vertical-align: middle;\n",
       "    }\n",
       "\n",
       "    .dataframe tbody tr th {\n",
       "        vertical-align: top;\n",
       "    }\n",
       "\n",
       "    .dataframe thead th {\n",
       "        text-align: right;\n",
       "    }\n",
       "</style>\n",
       "<table border=\"1\" class=\"dataframe\">\n",
       "  <thead>\n",
       "    <tr style=\"text-align: right;\">\n",
       "      <th></th>\n",
       "      <th>filename</th>\n",
       "    </tr>\n",
       "  </thead>\n",
       "  <tbody>\n",
       "    <tr>\n",
       "      <th>0</th>\n",
       "      <td>1978552532</td>\n",
       "    </tr>\n",
       "    <tr>\n",
       "      <th>1</th>\n",
       "      <td>2010754144</td>\n",
       "    </tr>\n",
       "    <tr>\n",
       "      <th>2</th>\n",
       "      <td>2581015818</td>\n",
       "    </tr>\n",
       "    <tr>\n",
       "      <th>3</th>\n",
       "      <td>2804009286</td>\n",
       "    </tr>\n",
       "    <tr>\n",
       "      <th>4</th>\n",
       "      <td>2006990202</td>\n",
       "    </tr>\n",
       "  </tbody>\n",
       "</table>\n",
       "</div>"
      ],
      "text/plain": [
       "     filename\n",
       "0  1978552532\n",
       "1  2010754144\n",
       "2  2581015818\n",
       "3  2804009286\n",
       "4  2006990202"
      ]
     },
     "execution_count": 8,
     "metadata": {},
     "output_type": "execute_result"
    }
   ],
   "source": [
    "filenames_df = filenames_df['filename'].str.split('.', n = 1, expand = True)\n",
    "filenames_df.columns = ['filename', 'fileformat']\n",
    "filenames_df = filenames_df.drop(\"fileformat\", axis = 1)\n",
    "filenames_df.head()"
   ]
  },
  {
   "cell_type": "code",
   "execution_count": 23,
   "metadata": {},
   "outputs": [
    {
     "data": {
      "text/html": [
       "<div>\n",
       "<style scoped>\n",
       "    .dataframe tbody tr th:only-of-type {\n",
       "        vertical-align: middle;\n",
       "    }\n",
       "\n",
       "    .dataframe tbody tr th {\n",
       "        vertical-align: top;\n",
       "    }\n",
       "\n",
       "    .dataframe thead th {\n",
       "        text-align: right;\n",
       "    }\n",
       "</style>\n",
       "<table border=\"1\" class=\"dataframe\">\n",
       "  <thead>\n",
       "    <tr style=\"text-align: right;\">\n",
       "      <th></th>\n",
       "      <th>doc_id</th>\n",
       "      <th>year</th>\n",
       "      <th>filename</th>\n",
       "    </tr>\n",
       "  </thead>\n",
       "  <tbody>\n",
       "    <tr>\n",
       "      <th>22</th>\n",
       "      <td>4703903</td>\n",
       "      <td>2014</td>\n",
       "      <td>4703903.tei.xml</td>\n",
       "    </tr>\n",
       "    <tr>\n",
       "      <th>56</th>\n",
       "      <td>4954057</td>\n",
       "      <td>2011</td>\n",
       "      <td>4954057.tei.xml</td>\n",
       "    </tr>\n",
       "    <tr>\n",
       "      <th>142</th>\n",
       "      <td>23717612</td>\n",
       "      <td>2013</td>\n",
       "      <td>23717612.tei.xml</td>\n",
       "    </tr>\n",
       "    <tr>\n",
       "      <th>169</th>\n",
       "      <td>23965926</td>\n",
       "      <td>2011</td>\n",
       "      <td>23965926.tei.xml</td>\n",
       "    </tr>\n",
       "    <tr>\n",
       "      <th>192</th>\n",
       "      <td>24141780</td>\n",
       "      <td>2006</td>\n",
       "      <td>24141780.tei.xml</td>\n",
       "    </tr>\n",
       "  </tbody>\n",
       "</table>\n",
       "</div>"
      ],
      "text/plain": [
       "       doc_id  year          filename\n",
       "22    4703903  2014   4703903.tei.xml\n",
       "56    4954057  2011   4954057.tei.xml\n",
       "142  23717612  2013  23717612.tei.xml\n",
       "169  23965926  2011  23965926.tei.xml\n",
       "192  24141780  2006  24141780.tei.xml"
      ]
     },
     "execution_count": 23,
     "metadata": {},
     "output_type": "execute_result"
    }
   ],
   "source": [
    "# compare both frames by doc id\n",
    "joined_df = pd.merge(sparql_df, filenames_df, left_on='doc_id', right_on='filename', how='left').dropna()\n",
    "joined_df = joined_df[joined_df.year != '2019']\n",
    "joined_df['filename'] = joined_df['doc_id'] + '.tei.xml'\n",
    "joined_df.head()"
   ]
  },
  {
   "cell_type": "code",
   "execution_count": 24,
   "metadata": {},
   "outputs": [
    {
     "name": "stdout",
     "output_type": "stream",
     "text": [
      "25060\n"
     ]
    },
    {
     "data": {
      "text/html": [
       "<div>\n",
       "<style scoped>\n",
       "    .dataframe tbody tr th:only-of-type {\n",
       "        vertical-align: middle;\n",
       "    }\n",
       "\n",
       "    .dataframe tbody tr th {\n",
       "        vertical-align: top;\n",
       "    }\n",
       "\n",
       "    .dataframe thead th {\n",
       "        text-align: right;\n",
       "    }\n",
       "</style>\n",
       "<table border=\"1\" class=\"dataframe\">\n",
       "  <thead>\n",
       "    <tr style=\"text-align: right;\">\n",
       "      <th></th>\n",
       "      <th>doc_id</th>\n",
       "      <th>year</th>\n",
       "      <th>filename</th>\n",
       "    </tr>\n",
       "  </thead>\n",
       "  <tbody>\n",
       "    <tr>\n",
       "      <th>241792</th>\n",
       "      <td>2118681326</td>\n",
       "      <td>2005</td>\n",
       "      <td>2118681326.tei.xml</td>\n",
       "    </tr>\n",
       "    <tr>\n",
       "      <th>360321</th>\n",
       "      <td>2161668503</td>\n",
       "      <td>2005</td>\n",
       "      <td>2161668503.tei.xml</td>\n",
       "    </tr>\n",
       "    <tr>\n",
       "      <th>124436</th>\n",
       "      <td>1544319464</td>\n",
       "      <td>2005</td>\n",
       "      <td>1544319464.tei.xml</td>\n",
       "    </tr>\n",
       "    <tr>\n",
       "      <th>110199</th>\n",
       "      <td>1535853290</td>\n",
       "      <td>2005</td>\n",
       "      <td>1535853290.tei.xml</td>\n",
       "    </tr>\n",
       "    <tr>\n",
       "      <th>335761</th>\n",
       "      <td>2107544712</td>\n",
       "      <td>2005</td>\n",
       "      <td>2107544712.tei.xml</td>\n",
       "    </tr>\n",
       "  </tbody>\n",
       "</table>\n",
       "</div>"
      ],
      "text/plain": [
       "            doc_id  year            filename\n",
       "241792  2118681326  2005  2118681326.tei.xml\n",
       "360321  2161668503  2005  2161668503.tei.xml\n",
       "124436  1544319464  2005  1544319464.tei.xml\n",
       "110199  1535853290  2005  1535853290.tei.xml\n",
       "335761  2107544712  2005  2107544712.tei.xml"
      ]
     },
     "execution_count": 24,
     "metadata": {},
     "output_type": "execute_result"
    }
   ],
   "source": [
    "sample = joined_df.groupby('year', group_keys=False).apply(lambda x: x.sample(min(len(x), 1790), random_state = 42))\n",
    "print(len(sample))\n",
    "sample.head()"
   ]
  },
  {
   "cell_type": "code",
   "execution_count": 25,
   "metadata": {},
   "outputs": [
    {
     "data": {
      "text/html": [
       "<div>\n",
       "<style scoped>\n",
       "    .dataframe tbody tr th:only-of-type {\n",
       "        vertical-align: middle;\n",
       "    }\n",
       "\n",
       "    .dataframe tbody tr th {\n",
       "        vertical-align: top;\n",
       "    }\n",
       "\n",
       "    .dataframe thead tr th {\n",
       "        text-align: left;\n",
       "    }\n",
       "\n",
       "    .dataframe thead tr:last-of-type th {\n",
       "        text-align: right;\n",
       "    }\n",
       "</style>\n",
       "<table border=\"1\" class=\"dataframe\">\n",
       "  <thead>\n",
       "    <tr>\n",
       "      <th></th>\n",
       "      <th>doc_id</th>\n",
       "      <th>filename</th>\n",
       "    </tr>\n",
       "    <tr>\n",
       "      <th></th>\n",
       "      <th>count</th>\n",
       "      <th>count</th>\n",
       "    </tr>\n",
       "    <tr>\n",
       "      <th>year</th>\n",
       "      <th></th>\n",
       "      <th></th>\n",
       "    </tr>\n",
       "  </thead>\n",
       "  <tbody>\n",
       "    <tr>\n",
       "      <th>2005</th>\n",
       "      <td>1790</td>\n",
       "      <td>1790</td>\n",
       "    </tr>\n",
       "    <tr>\n",
       "      <th>2006</th>\n",
       "      <td>1790</td>\n",
       "      <td>1790</td>\n",
       "    </tr>\n",
       "    <tr>\n",
       "      <th>2007</th>\n",
       "      <td>1790</td>\n",
       "      <td>1790</td>\n",
       "    </tr>\n",
       "    <tr>\n",
       "      <th>2008</th>\n",
       "      <td>1790</td>\n",
       "      <td>1790</td>\n",
       "    </tr>\n",
       "    <tr>\n",
       "      <th>2009</th>\n",
       "      <td>1790</td>\n",
       "      <td>1790</td>\n",
       "    </tr>\n",
       "    <tr>\n",
       "      <th>2010</th>\n",
       "      <td>1790</td>\n",
       "      <td>1790</td>\n",
       "    </tr>\n",
       "    <tr>\n",
       "      <th>2011</th>\n",
       "      <td>1790</td>\n",
       "      <td>1790</td>\n",
       "    </tr>\n",
       "    <tr>\n",
       "      <th>2012</th>\n",
       "      <td>1790</td>\n",
       "      <td>1790</td>\n",
       "    </tr>\n",
       "    <tr>\n",
       "      <th>2013</th>\n",
       "      <td>1790</td>\n",
       "      <td>1790</td>\n",
       "    </tr>\n",
       "    <tr>\n",
       "      <th>2014</th>\n",
       "      <td>1790</td>\n",
       "      <td>1790</td>\n",
       "    </tr>\n",
       "    <tr>\n",
       "      <th>2015</th>\n",
       "      <td>1790</td>\n",
       "      <td>1790</td>\n",
       "    </tr>\n",
       "    <tr>\n",
       "      <th>2016</th>\n",
       "      <td>1790</td>\n",
       "      <td>1790</td>\n",
       "    </tr>\n",
       "    <tr>\n",
       "      <th>2017</th>\n",
       "      <td>1790</td>\n",
       "      <td>1790</td>\n",
       "    </tr>\n",
       "    <tr>\n",
       "      <th>2018</th>\n",
       "      <td>1790</td>\n",
       "      <td>1790</td>\n",
       "    </tr>\n",
       "  </tbody>\n",
       "</table>\n",
       "</div>"
      ],
      "text/plain": [
       "     doc_id filename\n",
       "      count    count\n",
       "year                \n",
       "2005   1790     1790\n",
       "2006   1790     1790\n",
       "2007   1790     1790\n",
       "2008   1790     1790\n",
       "2009   1790     1790\n",
       "2010   1790     1790\n",
       "2011   1790     1790\n",
       "2012   1790     1790\n",
       "2013   1790     1790\n",
       "2014   1790     1790\n",
       "2015   1790     1790\n",
       "2016   1790     1790\n",
       "2017   1790     1790\n",
       "2018   1790     1790"
      ]
     },
     "execution_count": 25,
     "metadata": {},
     "output_type": "execute_result"
    }
   ],
   "source": [
    "# check if each year has same number of documents\n",
    "sample.groupby('year', group_keys=False).agg(['count'])"
   ]
  },
  {
   "cell_type": "code",
   "execution_count": 26,
   "metadata": {},
   "outputs": [],
   "source": [
    "sample1 = sample[sample['year'] <= '2010']\n",
    "sample2 = sample[sample['year'] > '2010']"
   ]
  },
  {
   "cell_type": "code",
   "execution_count": 45,
   "metadata": {},
   "outputs": [
    {
     "name": "stdout",
     "output_type": "stream",
     "text": [
      "10740\n",
      "14320\n"
     ]
    }
   ],
   "source": [
    "print(len(sample1))\n",
    "print(len(sample2))"
   ]
  },
  {
   "cell_type": "code",
   "execution_count": 30,
   "metadata": {},
   "outputs": [
    {
     "data": {
      "text/html": [
       "<div>\n",
       "<style scoped>\n",
       "    .dataframe tbody tr th:only-of-type {\n",
       "        vertical-align: middle;\n",
       "    }\n",
       "\n",
       "    .dataframe tbody tr th {\n",
       "        vertical-align: top;\n",
       "    }\n",
       "\n",
       "    .dataframe thead th {\n",
       "        text-align: right;\n",
       "    }\n",
       "</style>\n",
       "<table border=\"1\" class=\"dataframe\">\n",
       "  <thead>\n",
       "    <tr style=\"text-align: right;\">\n",
       "      <th></th>\n",
       "      <th>doc_id</th>\n",
       "      <th>year</th>\n",
       "      <th>filename</th>\n",
       "    </tr>\n",
       "  </thead>\n",
       "  <tbody>\n",
       "    <tr>\n",
       "      <th>241792</th>\n",
       "      <td>2118681326</td>\n",
       "      <td>2005</td>\n",
       "      <td>2118681326.tei.xml</td>\n",
       "    </tr>\n",
       "    <tr>\n",
       "      <th>360321</th>\n",
       "      <td>2161668503</td>\n",
       "      <td>2005</td>\n",
       "      <td>2161668503.tei.xml</td>\n",
       "    </tr>\n",
       "    <tr>\n",
       "      <th>124436</th>\n",
       "      <td>1544319464</td>\n",
       "      <td>2005</td>\n",
       "      <td>1544319464.tei.xml</td>\n",
       "    </tr>\n",
       "    <tr>\n",
       "      <th>110199</th>\n",
       "      <td>1535853290</td>\n",
       "      <td>2005</td>\n",
       "      <td>1535853290.tei.xml</td>\n",
       "    </tr>\n",
       "    <tr>\n",
       "      <th>335761</th>\n",
       "      <td>2107544712</td>\n",
       "      <td>2005</td>\n",
       "      <td>2107544712.tei.xml</td>\n",
       "    </tr>\n",
       "  </tbody>\n",
       "</table>\n",
       "</div>"
      ],
      "text/plain": [
       "            doc_id  year            filename\n",
       "241792  2118681326  2005  2118681326.tei.xml\n",
       "360321  2161668503  2005  2161668503.tei.xml\n",
       "124436  1544319464  2005  1544319464.tei.xml\n",
       "110199  1535853290  2005  1535853290.tei.xml\n",
       "335761  2107544712  2005  2107544712.tei.xml"
      ]
     },
     "execution_count": 30,
     "metadata": {},
     "output_type": "execute_result"
    }
   ],
   "source": [
    "sample1.head()"
   ]
  },
  {
   "cell_type": "code",
   "execution_count": 38,
   "metadata": {},
   "outputs": [],
   "source": [
    "from shutil import copyfile, copy"
   ]
  },
  {
   "cell_type": "code",
   "execution_count": 43,
   "metadata": {},
   "outputs": [
    {
     "data": {
      "text/plain": [
       "'/vol3/kd-seminar-ie/mag_papers_sample1/2118681326.tei.xml'"
      ]
     },
     "execution_count": 43,
     "metadata": {},
     "output_type": "execute_result"
    }
   ],
   "source": [
    "copy(\"/vol3/mag/Unpaywall/Fulltext/pdfs/computerscience/grobid-output/\" + sample1['filename'].iloc[0],\n",
    "         \"/vol3/kd-seminar-ie/mag_papers_sample1/\")"
   ]
  },
  {
   "cell_type": "code",
   "execution_count": 44,
   "metadata": {},
   "outputs": [],
   "source": [
    "for index, row in sample1.iterrows():\n",
    "    source = \"/vol3/mag/Unpaywall/Fulltext/pdfs/computerscience/grobid-output/\" + row['filename']\n",
    "    destination = \"/vol3/kd-seminar-ie/mag_papers_sample1/\"\n",
    "    copy(source, destination)"
   ]
  },
  {
   "cell_type": "code",
   "execution_count": 46,
   "metadata": {},
   "outputs": [],
   "source": [
    "for index, row in sample2.iterrows():\n",
    "    source = \"/vol3/mag/Unpaywall/Fulltext/pdfs/computerscience/grobid-output/\" + row['filename']\n",
    "    destination = \"/vol3/kd-seminar-ie/mag_papers_sample2/\"\n",
    "    copy(source, destination)"
   ]
  },
  {
   "cell_type": "code",
   "execution_count": 47,
   "metadata": {},
   "outputs": [
    {
     "data": {
      "text/plain": [
       "'/vol3/kd-seminar-ie'"
      ]
     },
     "execution_count": 47,
     "metadata": {},
     "output_type": "execute_result"
    }
   ],
   "source": [
    "# check if current directory is save to write:\n",
    "os.getcwd()"
   ]
  },
  {
   "cell_type": "code",
   "execution_count": 48,
   "metadata": {},
   "outputs": [],
   "source": [
    "sample1['doc_id'].to_csv(\"document_id_sample1_per_year.csv\", index = False)\n",
    "sample2['doc_id'].to_csv(\"document_id_sample2_per_year.csv\", index = False)"
   ]
  },
  {
   "cell_type": "code",
   "execution_count": 19,
   "metadata": {},
   "outputs": [],
   "source": [
    "# create list of file names to use for classification task\n",
    "#sample.drop('filename', axis = 1)\n",
    "sample['doc_id'].to_csv(\"document_id_sampled_per_year.csv\", index = False)"
   ]
  }
 ],
 "metadata": {
  "kernelspec": {
   "display_name": "Python 3",
   "language": "python",
   "name": "python3"
  },
  "language_info": {
   "codemirror_mode": {
    "name": "ipython",
    "version": 3
   },
   "file_extension": ".py",
   "mimetype": "text/x-python",
   "name": "python",
   "nbconvert_exporter": "python",
   "pygments_lexer": "ipython3",
   "version": "3.7.7"
  }
 },
 "nbformat": 4,
 "nbformat_minor": 4
}