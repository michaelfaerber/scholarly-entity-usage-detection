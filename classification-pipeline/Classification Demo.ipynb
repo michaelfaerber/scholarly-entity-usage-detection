{
 "cells": [
  {
   "cell_type": "markdown",
   "metadata": {},
   "source": [
    "# Classification-pipeline Demo\n",
    "This is a demo version of the classification pipeline. The pipeline will be applied to a one sample document from the MAKG."
   ]
  },
  {
   "cell_type": "code",
   "execution_count": 6,
   "metadata": {
    "scrolled": true
   },
   "outputs": [],
   "source": [
    "# Imports\n",
    "from parsing.mag_parser import read_documents, parse_document\n",
    "from ner.tsener import extract_entities\n",
    "from usage_classification.bert_model import init_bert_model, usage_classification\n",
    "from aggregation.aggregator import aggregate_probabilities, filter_entities\n",
    "from os.path import join"
   ]
  },
  {
   "cell_type": "markdown",
   "metadata": {},
   "source": [
    "## Step 1: Read and parse a MAG paper and extract all named entities"
   ]
  },
  {
   "cell_type": "code",
   "execution_count": 2,
   "metadata": {},
   "outputs": [
    {
     "data": {
      "text/plain": [
       "'2118681326'"
      ]
     },
     "execution_count": 2,
     "metadata": {},
     "output_type": "execute_result"
    }
   ],
   "source": [
    "# Get the first document id from the CSV file\n",
    "with open('document_id_sampled_per_year.csv', 'r') as f:\n",
    "    f.readline() # header\n",
    "    document_id = f.readline().strip()\n",
    "    \n",
    "document_id"
   ]
  },
  {
   "cell_type": "code",
   "execution_count": 4,
   "metadata": {},
   "outputs": [
    {
     "data": {
      "text/plain": [
       "[('Abstract',\n",
       "  ['In Statistics-Based Summarization -Step One: Sentence Compression, Knight and Marcu [reference]) (K&M) present a noisy-channel model for sentence compression.',\n",
       "   'The main difficulty in using this method is the lack of data; Knight and Marcu use a corpus of 1035 training sentences.',\n",
       "   'More data is not easily available, so in addition to improving the original K&M noisy-channel model, we create unsupervised and semi-supervised models of the task.',\n",
       "   'Finally, we point out problems with modeling the task in this way.',\n",
       "   'They suggest areas for future research.']),\n",
       " ('Introduction',\n",
       "  ['Summarization in general, and sentence compression in particular, are popular topics.',\n",
       "   'Knight and Marcu (henceforth K&M) introduce the task of statistical sentence compression in Statistics-Based Summarization -Step One: Sentence Compression [reference]).',\n",
       "   'The appeal of this problem is that it produces summarizations on a small scale.',\n",
       "   'It simplifies general compression problems, such as text-to-abstract conversion, by eliminating the need for coherency between sentences.',\n",
       "   'The model is further simplified by being constrained to word deletion: no rearranging of words takes place.',\n",
       "   'Others have performed the sentence compression task using syntactic approaches to this problem ( [reference]) ( [reference]), but we focus exclusively on the K&M formulation.',\n",
       "   'Though the problem is simpler, it is still pertinent to current needs; generation of captions for television and audio scanning services for the blind [reference], as well as compressing chosen sentences for headline generation [reference]) are examples of uses for sentence compression.',\n",
       "   \"In addition to simplifying the task, K&M's noisy-channel formulation is also appealing.\",\n",
       "   'In the following sections, we discuss the K&M noisy-channel model.',\n",
       "   'We then present our cleaned up, and slightly improved noisy-channel model.',\n",
       "   'We also develop unsupervised and semi-supervised (our term for a combination of supervised and unsupervised) methods of sentence compression with inspiration from the K&M model, and create additional constraints to improve the compressions.',\n",
       "   'We conclude with the problems inherent in both models.']),\n",
       " ('The K&M Model',\n",
       "  ['The K&M probabilistic model, adapted from machine translation to this task, is the noisy-channel model.',\n",
       "   'In machine translation, one imagines that a string was originally in English, but that someone adds some noise to make it a foreign string.',\n",
       "   'Analogously, in the sentence compression model, the short string is the original sentence and someone adds noise, resulting in the longer sentence.',\n",
       "   'Using this framework, the end goal is, given a long sentence l, to determine the short sentence s that maximizes P (s | l).',\n",
       "   'By Bayes Rule, The probability of the long sentence, P (l) can be ignored when finding the maximum, because the long sentence is the same in every case.',\n",
       "   'P (s) is the source model: the probability that s is the original sentence.',\n",
       "   'P (l | s) is the channel model: the probability the long sentence is the expanded version of the short.',\n",
       "   'This framework independently models the grammaticality of s (with P (s)) and whether s is a good compression of l (P (l | s)).',\n",
       "   'The K&M model uses parse trees for the sentences.',\n",
       "   'These allow it to better determine the probability of the short sentence and to obtain alignments from the training data.',\n",
       "   'In the K&M model, the sentence probability is determined by combining a probabilistic context free grammar (PCFG) with a word-bigram score.',\n",
       "   'The joint rules used to create the compressions are generated by aligning the nodes of the short and long trees in the training data to determine expansion probabilities (P (l | s)).',\n",
       "   'Recall that the channel model tries to find the probability of the long string with respect to the short string.',\n",
       "   'It obtains these probabilities by aligning nodes in the parsed parallel training corpus, and counting the nodes that align as \"joint events.\"',\n",
       "   'For example, there might be S → NP VP PP in the long sentence and S → NP VP in the short sentence; we count this as one joint event.',\n",
       "   'Non-compressions, where the long version is the same as the short, are also counted.',\n",
       "   'The expansion probability, as used in the channel model, is given by where count(joint(l, s)) is the count of alignments of the long rule and the short.',\n",
       "   'Many compressions do not align exactly.',\n",
       "   'Sometimes the parses do not match, and sometimes there are deletions that are too complex to be modeled in this way.',\n",
       "   'In these cases sentence pairs, or sections of them, are ignored.',\n",
       "   'The K&M model creates a packed parse forest of all possible compressions that are grammatical with respect to the Penn Treebank ( [reference]).',\n",
       "   'Any compression given a zero expansion probability according to the training data is instead assigned a very small probability.',\n",
       "   'A tree extractor [reference]) collects the short sentences with the highest score for P (s | l).']),\n",
       " ('Our Noisy-Channel Model',\n",
       "  ['Our starting implementation is intended to follow the K&M model fairly closely.',\n",
       "   'We use the same 1067 pairs of sentences from the Ziff-Davis corpus, with 32 used as testing and the rest as training.',\n",
       "   'The main difference between their model and ours is that instead of using the rather ad-hoc K&M language model, we substitute the syntax-based language model described in [reference].',\n",
       "   'We slightly modify the channel model equation to be P (l | s) = P expand (l | s)P deleted , where P deleted is the probability of adding the deleted subtrees back into s to get l. We determine this probability also using the Charniak language model.',\n",
       "   'We require an extra parameter to encourage compression.',\n",
       "   'We create a development corpus of 25 sentences from the training data in order to adjust this parameter.',\n",
       "   'That we require a parameter to encourage compression is odd as K&M required a parameter to discourage compression, but we address this point in the penultimate section.',\n",
       "   'Another difference is that we only generate short versions for which we have rules.',\n",
       "   'If we have never before seen the long version, we leave it alone, and in the rare case when we never see the long version as an expansion of itself, we allow only the short version.',\n",
       "   'We do not use a packed tree structure, because we make far fewer sentences.',\n",
       "   'Additionally, as we are traversing the list of rules to compress the sentences, we keep the list capped at the 100 compressions with the highest P expand (l | s).',\n",
       "   'We eventually truncate the list to the best 25, still based upon P expand (l | s).']),\n",
       " ('Special Rules',\n",
       "  ['One difficulty in the use of training data is that so many compressions cannot be modeled by our simple method.',\n",
       "   'The rules it does model, immediate constituent deletion, as in taking out the ADVP , of S → ADVP , NP VP ., are certainly common, but many good deletions are more structurally complicated.',\n",
       "   'One particular type of rule, such as NP(1) → NP(2) CC NP(3), where the parent has at least one child with the same label as itself, and the resulting compression is one of the matching children, such as, here, NP(2).',\n",
       "   'There are several hundred rules of this type, and it is very simple to incorporate into our model.',\n",
       "   'There are other structures that may be common enough to merit adding, but we limit this experiment to the original rules and our new \"special rules.\"']),\n",
       " ('Unsupervised Compression',\n",
       "  ['One of the biggest problems with this model of sentence compression is the lack of appropriate training data.',\n",
       "   'Typically, abstracts do not seem to contain short sentences matching long ones elsewhere in a paper, and we would prefer a much larger corpus.',\n",
       "   'Despite this lack of training data, very good results were obtained both by the K&M model and by our variant.',\n",
       "   'We create a way to compress sentences without parallel training data, while sticking as closely to the K&M model as possible.',\n",
       "   'The source model stays the same, and we still pay a probability cost in the channel model for every subtree deleted.',\n",
       "   'However, the way we determine P expand (l | s) changes because we no longer have a parallel text.',\n",
       "   'We create joint rules using only the first section (0.mrg) of the Penn Treebank.',\n",
       "   'We count all probabilistic context free grammar (PCFG) expansions, and then match up similar rules as unsupervised joint events.',\n",
       "   'We change Equation 2 to calculate P expand (s | l) without parallel data.',\n",
       "   'First, let us define svo (shorter version of) to be: r 1 svo r 2 iff the righthand side of r 1 is a subsequence of the righthand side of r 2 .',\n",
       "   'Then define Finally, P(NP → DT NN | NP → DT NN) = 4/7.',\n",
       "   'The count of NP → DT NN = 4, and since the short (NP → DT NN) is the same as above, the count of the possible long versions is again 7.',\n",
       "   'In this way, we approximate P expand (l | s) without parallel data.',\n",
       "   'Since some of these \"training\" pairs are likely to be fairly poor compressions, due to the artificiality of the construction, we restrict generation of short sentences to not allow deletion of the head of any subtree.',\n",
       "   'None of the special rules are applied.',\n",
       "   'Other than the above changes, the unsupervised model matches our supervised version.',\n",
       "   'As will be shown, this rule is not constraining enough and allows some poor compressions, but it is remarkable that any sort of compression can be achieved without training data.',\n",
       "   'Later, we will describe additional constraints that help even more.']),\n",
       " ('Semi-Supervised Compression',\n",
       "  ['Because the supervised version tends to do quite well, and its main problem is that the model tends to pick longer compressions than a human would, it seems reasonable to incorporate the unsupervised version into our supervised model, in the hope of getting more rules to use.',\n",
       "   'In generating new short sentences, if we have compression probabilities in the supervised version, we use those, including the special rules.',\n",
       "   'The only time we use an unsupervised compression probability is when there is no supervised version of the unsupervised rule.']),\n",
       " ('Additional Constraints',\n",
       "  ['Even with the unsupervised constraint from section 3, the fact that we have artificially created our joint rules gives us some fairly ungrammatical compressions.',\n",
       "   'Adding extra constraints improves our unsupervised compressions, and gives us better performance on the supervised version as well.',\n",
       "   'We use a program to label syntactic arguments with the roles they are playing [reference]), and the rules for complement/adjunct distinction given by [reference] to never allow deletion of the complement.',\n",
       "   'Since many nodes that should not be deleted are not labeled with their syntactic role, we add another constraint that disallows deletion of NPs.']),\n",
       " ('Evaluation',\n",
       "  ['As with [reference] original work, we use the same 32 sentence pairs as our Test Corpus, leaving us with 1035 training pairs.',\n",
       "   'After adjusting the supervised weighting parameter, we fold the development set back into the training data.',\n",
       "   'We presented four judges with nine compressed versions of each of the 32 long sentences: A humangenerated short version, the K&M version, our first supervised version, our supervised version with our special rules, our supervised version with special rules and additional constraints, our unsupervised version, our supervised version with additional constraints, our semi-supervised version, and our semisupervised version with additional constraints.',\n",
       "   'The judges were asked to rate the sentences in two ways: the grammaticality of the short sentences on a scale from 1 to 5, and the importance of the short sentence, or how well the compressed version retained the important words from the original, also on a scale from 1 to 5.',\n",
       "   'The short sentences were randomly shuffled across test cases.',\n",
       "   'The results in [reference] show compression rates, as well as average grammar and importance scores across judges.',\n",
       "   'There are two main ideas to take away from these results.',\n",
       "   'First, we can get good compressions without paired training data.',\n",
       "   'Second, we achieved a good boost by adding our additional constraints in two of the three versions.',\n",
       "   'Note that importance is a somewhat arbitrary distinction, since according to our judges, all of the computer-generated versions do as well in importance as the human-generated versions.']),\n",
       " ('Examples of Results',\n",
       "  ['In [reference], we give four examples of most compression techniques in order to show the range of performance that each technique spans.',\n",
       "   'In the first two examples, we give only the versions with constraints, because there is little or no difference between the versions with and without constraints.',\n",
       "   'Example 1 shows the additional compression obtained by using our special rules.',\n",
       "   '[reference] shows the parse trees of the original pair of short and long versions.',\n",
       "   'The relevant expansion is NP → NP1 , PP in the long version and simply NP1 in the short version.',\n",
       "   'The supervised version that includes the special rules learned this particular common special joint rule from the training data and could apply it to the example case.',\n",
       "   'This supervised version compresses better than either version of the supervised noisy-channel model that lacks these rules.',\n",
       "   'The unsupervised version does not compress at all, whereas the semi-supervised version is identical with the better supervised version.',\n",
       "   'Example 2 shows how unsupervised and semisupervised techniques can be used to improve compression.',\n",
       "   'Although the final length of the sentences is roughly the same, the unsupervised and semisupervised versions are able to take the action of deleting the parenthetical.',\n",
       "   'Deleting parentheses was never seen in the training data, so it would be extremely unlikely to occur in this case.',\n",
       "   'The unsupervised version, on the other hand, sees both PRN → lrb NP rrb and PRN → NP in its training data, and the semi-supervised version capitalizes on this particular unsupervised rule.',\n",
       "   'Example 3 shows an instance of our initial supervised versions performing far worse than the K&M model.',\n",
       "   'The reason is that currently our supervised model only generates compressions that it has seen before, unlike the K&M model, which generates all possible compressions.',\n",
       "   'S → S , NP VP .',\n",
       "   'never occurs in the training data, and so a good compression does not exist.',\n",
       "   'The unsupervised and semi-supervised versions do better in this case, and the supervised version with the added constraints does even better.',\n",
       "   'Example 4 gives an example of the K&M model being outperformed by all of our other models.']),\n",
       " ('Problems with Noisy Channel Models of Sentence Compression',\n",
       "  ['To this point our presentation has been rather normal; we draw inspiration from a previous paper, and work at improving on it in various ways.',\n",
       "   'We now deviate from the usual by claiming that while the K&M model works very well, there is a technical problem with formulating the task in this way.',\n",
       "   'We start by making our noisy channel notation a original: Many debugging features, including user-defined break points and variable-watching and message-watching windows, have been added.',\n",
       "   'human: Many debugging features have been added.',\n",
       "   'K&M: Many debugging features, including user-defined points and variable-watching and message-watching windows, have been added.',\n",
       "   'supervised: Many features, including user-defined break points and variable-watching and windows, have been added.',\n",
       "   'super (+ extra rules, constraints): Many debugging features have been added.',\n",
       "   'unsuper (+ constraints): Many debugging features, including user-defined break points and variable-watching and message-watching windows, have been added.',\n",
       "   'semi-supervised (+ constraints): Many debugging features have been added.',\n",
       "   'original: Also, Trackstar supports only the critical path method (CPM) of project scheduling.',\n",
       "   'human: Trackstar supports the critical path method of project scheduling.',\n",
       "   'K&M: Trackstar supports only the critical path method (CPM) of scheduling.',\n",
       "   'supervised: Trackstar supports only the critical path method (CPM) of scheduling.',\n",
       "   'super (+ extra rules, constraints): Trackstar supports only the critical path method (CPM) of scheduling.',\n",
       "   'unsuper (+ constraints): Trackstar supports only the critical path method of project scheduling.',\n",
       "   'semi-supervised (+ constraints): Trackstar supports only the critical path method of project scheduling.',\n",
       "   'original: The faster transfer rate is made possible by an MTI-proprietary data buffering algorithm that off-loads lock-manager functions from the Q-bus host, Raimondi said.',\n",
       "   'human: The algorithm off-loads lock-manager functions from the Q-bus host.',\n",
       "   'K&M: The faster rate is made possible by a MTI-proprietary data buffering algorithm that off-loads lock-manager functions from the Q-bus host, Raimondi said.',\n",
       "   'supervised: Raimondi said.',\n",
       "   'super (+ extra rules): Raimondi said.',\n",
       "   'super (+ extra rules, constraints): The faster transfer rate is made possible by an MTI-proprietary data buffering algorithm, Raimondi said.',\n",
       "   'unsuper (+ constraints): The faster transfer rate is made possible, Raimondi said.',\n",
       "   'semi-supervised (+ constraints): The faster transfer rate is made possible, Raimondi said.',\n",
       "   \"original: The SAS screen is divided into three sections: one for writing programs, one for the system's response as it executes the program, and a third for output tables and charts.\",\n",
       "   'human: The SAS screen is divided into three sections.',\n",
       "   'K&M: The screen is divided into one super (+ extra rules): SAS screen is divided into three sections: one for writing programs, and a third for output tables and charts.',\n",
       "   'super (+ extra rules, constraints): The SAS screen is divided into three sections.',\n",
       "   \"unsupervised: The screen is divided into sections: one for writing programs, one for the system's response as it executes program, and third for output tables and charts.\",\n",
       "   \"unsupervised (+ constraints): Screen is divided into three sections: one for writing programs, one for the system's response as it executes program, and a third for output tables and charts.\",\n",
       "   \"semi-supervised: The SAS screen is divided into three sections: one for writing programs, one for the system's response as it executes the program, and a third for output tables and charts.\",\n",
       "   \"semi-super (+ constraints): The screen is divided into three sections: one for writing programs, one for the system's response as it executes the program, and a third for output tables and charts.\",\n",
       "   'Here we have introduced explicit conditioning events L = l and L = s to state that that the sentence in question is either the long version or the short version.',\n",
       "   'We do this because in order to get the equation that K&M (and ourselves) start with, it is necessary to assume the following This means we assume that the probability of, say, s as a short (compressed) sentence is simply its probability as a sentence.',\n",
       "   'This will be, in general, false.',\n",
       "   'One would hope that real compressed sentences are more probable as a member of the set of compressed sentences than they are as simply a member of all English sentences.',\n",
       "   'However, neither K&M, nor we, have a large enough body of compressed and original sentences from which to create useful language models, so we both make this simplifying assumption.',\n",
       "   'At this point it seems like a reasonable choice to make.',\n",
       "   'In fact, it compromises the entire enterprise.',\n",
       "   'To see this, however, we must descend into more details.',\n",
       "   'Let us consider a simplified version of a K&M example, but as reinterpreted for our model: how the noisy channel model assigns a probability of the compressed tree (A) in [reference] given the original tree B.',\n",
       "   'We compute the probabilities p(A) and p(B | A) as follows [reference]): We have divided the probabilities up according to whether they are contributed by the source or channel models.',\n",
       "   'Those from the source Figure 4: Source and channel probabilities for com- Figure 5: Source and channel probabilities for leaving B as B model are conditioned on, e.g.',\n",
       "   'H(np) the history in terms of the tree structure around the noun-phrase.',\n",
       "   'In a pure PCFG this would only include the label of the node.',\n",
       "   'In our language model it includes much more, such as parent and grandparent heads.',\n",
       "   'Again, following K&M, contrast this with the probabilities assigned when the compressed tree is identical to the original ( [reference]).',\n",
       "   'Expressed like this it is somewhat daunting, but notice that if all we want is to see which probability is higher (the compressed being the same as the original or truly compressed) then most of these terms cancel, and we get the rule, prefer the truly compressed if and only if the following ratio is greater than one.',\n",
       "   'In the numerator are the unmatched probabilities that go into the compressed sentence noisy channel probability, and in the denominator are those for when the sentence does not undergo any change.',\n",
       "   'We can make this even simpler by noting that because tree-bank pre-terminals can only expand into words p(jj → large | jj → large) = 1.',\n",
       "   'Thus the last fraction in Equation 7 is equal to one and can be ignored.',\n",
       "   'For a compression to occur, it needs to be less desirable to add an adjective in the channel model than in the source model.',\n",
       "   'In fact, the opposite occurs.',\n",
       "   'The likelihood of almost any constituent deletion is far lower than the probability of the constituents all being left in.',\n",
       "   'This seems surprising, considering that the model we are using has had some success, but it makes intuitive sense.',\n",
       "   'There are far fewer compression alignments than total alignments: identical parts of sentences are almost sure to align.',\n",
       "   'So the most probable short sentence should be very barely compressed.',\n",
       "   'Thus we add a weighting factor to compress our supervised version further.',\n",
       "   'K&M also, in effect, weight shorter sentences more strongly than longer ones based upon their language model.',\n",
       "   'In their papers on sentence compression, they give an example similar to our \"buy large toys\" example.',\n",
       "   'The equation they get for the channel probabilities in their example is similar to the channel probabilities we give in [reference].',\n",
       "   'However their source probabilities are different.',\n",
       "   'K&M did not have a true syntax-based language model to use as we have.',\n",
       "   'Thus they divided the language model into two parts.',\n",
       "   'Part one assigns probabilities to the grammar rules using a probabilistic contextfree grammar, while part two assigns probabilities to the words using a bi-gram model.',\n",
       "   'As they acknowledge in [reference]), the word bigram probabilities are also included in the PCFG probabilities.',\n",
       "   'So in their versions of Figures 3 and 4 they have both p(toys | nns) (from the PCFG) and p(toys | buy) for the bigram probability.',\n",
       "   'In this model, the probabilities do not sum to one, because they pay the probabilistic price for guessing the word \"toys\" twice, based upon two different conditioning events.',\n",
       "   'Based upon this language model, they prefer shorter sentences.',\n",
       "   \"To reiterate this section's argument: A noisy channel model is not by itself an appropriate model for sentence compression.\",\n",
       "   'In fact, the most likely short sentence will, in general, be the same length as the long sentence.',\n",
       "   'We achieve compression by weighting to give shorter sentences more likelihood.',\n",
       "   'In fact, what is really required is some model that takes \"utility\" into account, using a utility model in which shorter sentences are more useful.',\n",
       "   'Our term giving preference to shorter sentences can be thought of as a crude approximation to such a utility.',\n",
       "   'However, this is clearly an area for future research.']),\n",
       " ('Conclusion',\n",
       "  ['We have created a supervised version of the noisychannel model with some improvements over the K&M model.',\n",
       "   'In particular, we learned that adding an additional rule type improved compression, and that enforcing some deletion constraints improves grammaticality.',\n",
       "   'We also show that it is possible to perform an unsupervised version of the compression task, which performs remarkably well.',\n",
       "   'Our semisupervised version, which we hoped would have good compression rates and grammaticality, had good grammaticality but lower compression than desired.',\n",
       "   'We would like to come up with a better utility function than a simple weighting parameter for our supervised version.',\n",
       "   'The unsupervised version probably can also be further improved.',\n",
       "   'We achieved much success using syntactic labels to constrain compressions, and there are surely other constraints that can be added.',\n",
       "   'However, more training data is always the easiest cure to statistical problems.',\n",
       "   'If we can find much larger quantities of training data we could allow for much richer rule paradigms that relate compressed to original sentences.',\n",
       "   'One example of a rule we would like to automatically discover would allow us to compress all of our design goals or In the limit such rules blur the distinction between compression and paraphrase.'])]"
      ]
     },
     "execution_count": 4,
     "metadata": {},
     "output_type": "execute_result"
    }
   ],
   "source": [
    "# Read the GROBID fulltext\n",
    "with open(join('mag_papers_sample1', document_id + \".tei.xml\"), 'r') as f:\n",
    "    document = parse_document(f)\n",
    "    \n",
    "# Document is a list tuples, where each tuple consists of a section name and\n",
    "# a list of all sentences inside that section.\n",
    "document"
   ]
  },
  {
   "cell_type": "code",
   "execution_count": 5,
   "metadata": {
    "scrolled": true
   },
   "outputs": [
    {
     "name": "stdout",
     "output_type": "stream",
     "text": [
      "Tagging 4107 words\n"
     ]
    },
    {
     "data": {
      "text/plain": [
       "[('Marcu',\n",
       "  'The main difficulty in using this method is the lack of data; Knight and Marcu use a corpus of 1035 training sentences.',\n",
       "  'In Statistics-Based Summarization -Step One: Sentence Compression, Knight and Marcu [reference]) (K&M) present a noisy-channel model for sentence compression.',\n",
       "  'More data is not easily available, so in addition to improving the original K&M noisy-channel model, we create unsupervised and semi-supervised models of the task.',\n",
       "  'Abstract'),\n",
       " ('machine translation',\n",
       "  'The K&M probabilistic model, adapted from machine translation to this task, is the noisy-channel model.',\n",
       "  '',\n",
       "  'In machine translation, one imagines that a string was originally in English, but that someone adds some noise to make it a foreign string.',\n",
       "  'The K&M Model'),\n",
       " ('machine translation',\n",
       "  'In machine translation, one imagines that a string was originally in English, but that someone adds some noise to make it a foreign string.',\n",
       "  'The K&M probabilistic model, adapted from machine translation to this task, is the noisy-channel model.',\n",
       "  'Analogously, in the sentence compression model, the short string is the original sentence and someone adds noise, resulting in the longer sentence.',\n",
       "  'The K&M Model'),\n",
       " ('tree',\n",
       "  'We do not use a packed tree structure, because we make far fewer sentences.',\n",
       "  'If we have never before seen the long version, we leave it alone, and in the rare case when we never see the long version as an expansion of itself, we allow only the short version.',\n",
       "  'Additionally, as we are traversing the list of rules to compress the sentences, we keep the list capped at the 100 compressions with the highest P expand (l | s).',\n",
       "  'Our Noisy-Channel Model'),\n",
       " ('whereas',\n",
       "  'The unsupervised version does not compress at all, whereas the semi-supervised version is identical with the better supervised version.',\n",
       "  'This supervised version compresses better than either version of the supervised noisy-channel model that lacks these rules.',\n",
       "  'Example 2 shows how unsupervised and semisupervised techniques can be used to improve compression.',\n",
       "  'Examples of Results'),\n",
       " ('Although',\n",
       "  'Although the final length of the sentences is roughly the same, the unsupervised and semisupervised versions are able to take the action of deleting the parenthetical.',\n",
       "  'Example 2 shows how unsupervised and semisupervised techniques can be used to improve compression.',\n",
       "  'Deleting parentheses was never seen in the training data, so it would be extremely unlikely to occur in this case.',\n",
       "  'Examples of Results'),\n",
       " ('algorithm',\n",
       "  'original: The faster transfer rate is made possible by an MTI-proprietary data buffering algorithm that off-loads lock-manager functions from the Q-bus host, Raimondi said.',\n",
       "  'semi-supervised (+ constraints): Trackstar supports only the critical path method of project scheduling.',\n",
       "  'human: The algorithm off-loads lock-manager functions from the Q-bus host.',\n",
       "  'Problems with Noisy Channel Models of Sentence Compression'),\n",
       " ('algorithm',\n",
       "  'human: The algorithm off-loads lock-manager functions from the Q-bus host.',\n",
       "  'original: The faster transfer rate is made possible by an MTI-proprietary data buffering algorithm that off-loads lock-manager functions from the Q-bus host, Raimondi said.',\n",
       "  'K&M: The faster rate is made possible by a MTI-proprietary data buffering algorithm that off-loads lock-manager functions from the Q-bus host, Raimondi said.',\n",
       "  'Problems with Noisy Channel Models of Sentence Compression'),\n",
       " ('algorithm',\n",
       "  'K&M: The faster rate is made possible by a MTI-proprietary data buffering algorithm that off-loads lock-manager functions from the Q-bus host, Raimondi said.',\n",
       "  'human: The algorithm off-loads lock-manager functions from the Q-bus host.',\n",
       "  'supervised: Raimondi said.',\n",
       "  'Problems with Noisy Channel Models of Sentence Compression'),\n",
       " ('algorithm',\n",
       "  'super (+ extra rules, constraints): The faster transfer rate is made possible by an MTI-proprietary data buffering algorithm, Raimondi said.',\n",
       "  'super (+ extra rules): Raimondi said.',\n",
       "  'unsuper (+ constraints): The faster transfer rate is made possible, Raimondi said.',\n",
       "  'Problems with Noisy Channel Models of Sentence Compression'),\n",
       " ('thought',\n",
       "  'Our term giving preference to shorter sentences can be thought of as a crude approximation to such a utility.',\n",
       "  'In fact, what is really required is some model that takes \"utility\" into account, using a utility model in which shorter sentences are more useful.',\n",
       "  'However, this is clearly an area for future research.',\n",
       "  'Problems with Noisy Channel Models of Sentence Compression')]"
      ]
     },
     "execution_count": 5,
     "metadata": {},
     "output_type": "execute_result"
    }
   ],
   "source": [
    "# Perform a named entity recognition for the entity type 'method' using the trained TSE-NER model.\n",
    "entities = extract_entities(document, 'method')\n",
    "# entities is a list of tuples, where each tuple consists of the named entity,\n",
    "# the sentence in which the entity occurs, the pre- and post-sentence and the\n",
    "# section name.\n",
    "entities"
   ]
  },
  {
   "cell_type": "markdown",
   "metadata": {},
   "source": [
    "## 2. Classify all extracted entities using the fine-tuned SciBERT model"
   ]
  },
  {
   "cell_type": "code",
   "execution_count": 8,
   "metadata": {
    "scrolled": true
   },
   "outputs": [],
   "source": [
    "# Initialize the BERT tokenizer and model\n",
    "tokenizer, model = init_bert_model(finetuned_name='bert_model.bin')"
   ]
  },
  {
   "cell_type": "code",
   "execution_count": 11,
   "metadata": {},
   "outputs": [
    {
     "data": {
      "text/plain": [
       "{'marcu': ([0.002498308662325144],\n",
       "  'The main difficulty in using this method is the lack of data; Knight and Marcu use a corpus of 1035 training sentences.'),\n",
       " 'machine translation': ([0.0036958118434995413],\n",
       "  'The K&M probabilistic model, adapted from machine translation to this task, is the noisy-channel model.'),\n",
       " 'tree': ([0.34160423278808594],\n",
       "  'We do not use a packed tree structure, because we make far fewer sentences.'),\n",
       " 'whereas': ([0.9868675470352173],\n",
       "  'The unsupervised version does not compress at all, whereas the semi-supervised version is identical with the better supervised version.'),\n",
       " 'although': ([0.9273919463157654],\n",
       "  'Although the final length of the sentences is roughly the same, the unsupervised and semisupervised versions are able to take the action of deleting the parenthetical.'),\n",
       " 'algorithm': ([0.0019390813540667295],\n",
       "  'original: The faster transfer rate is made possible by an MTI-proprietary data buffering algorithm that off-loads lock-manager functions from the Q-bus host, Raimondi said.'),\n",
       " 'thought': ([0.026312610134482384],\n",
       "  'Our term giving preference to shorter sentences can be thought of as a crude approximation to such a utility.')}"
      ]
     },
     "execution_count": 11,
     "metadata": {},
     "output_type": "execute_result"
    }
   ],
   "source": [
    "# Probabilities is a dictionary with ne as key and a list of probabilities as value.\n",
    "probabilities = {}\n",
    "for entity in entities:\n",
    "    # Apply BERT model\n",
    "    prob = usage_classification(tokenizer, model, *entity)\n",
    "    # Insert all returned probabilities into the probabilities-dictionary.\n",
    "    ne = entity[0].lower()\n",
    "    sentence = entity[1]\n",
    "    if ne not in probabilities:\n",
    "        probabilities[ne] = ([], sentence)\n",
    "        probabilities[ne][0].append(prob)\n",
    "        \n",
    "probabilities"
   ]
  },
  {
   "cell_type": "markdown",
   "metadata": {},
   "source": [
    "## 3. Aggregate the probabilities for all extracted entities"
   ]
  },
  {
   "cell_type": "code",
   "execution_count": 12,
   "metadata": {},
   "outputs": [
    {
     "data": {
      "text/plain": [
       "[('whereas',\n",
       "  0.9868675470352173,\n",
       "  1,\n",
       "  'The unsupervised version does not compress at all, whereas the semi-supervised version is identical with the better supervised version.'),\n",
       " ('although',\n",
       "  0.9273919463157654,\n",
       "  1,\n",
       "  'Although the final length of the sentences is roughly the same, the unsupervised and semisupervised versions are able to take the action of deleting the parenthetical.'),\n",
       " ('machine translation',\n",
       "  0.0036958118434995413,\n",
       "  1,\n",
       "  'The K&M probabilistic model, adapted from machine translation to this task, is the noisy-channel model.'),\n",
       " ('marcu',\n",
       "  0.002498308662325144,\n",
       "  1,\n",
       "  'The main difficulty in using this method is the lack of data; Knight and Marcu use a corpus of 1035 training sentences.')]"
      ]
     },
     "execution_count": 12,
     "metadata": {},
     "output_type": "execute_result"
    }
   ],
   "source": [
    "# Aggregate the probabilities for each entity using majority voting.\n",
    "unique_entities = aggregate_probabilities(probabilities)\n",
    "# Filter out non-relevant entities:\n",
    "filtered_entities = filter_entities(unique_entities)\n",
    "\n",
    "filtered_entities"
   ]
  }
 ],
 "metadata": {
  "kernelspec": {
   "display_name": "Python 3",
   "language": "python",
   "name": "python3"
  },
  "language_info": {
   "codemirror_mode": {
    "name": "ipython",
    "version": 3
   },
   "file_extension": ".py",
   "mimetype": "text/x-python",
   "name": "python",
   "nbconvert_exporter": "python",
   "pygments_lexer": "ipython3",
   "version": "3.6.9"
  }
 },
 "nbformat": 4,
 "nbformat_minor": 4
}
